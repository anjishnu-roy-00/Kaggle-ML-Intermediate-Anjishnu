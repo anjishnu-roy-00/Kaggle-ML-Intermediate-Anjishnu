{
 "cells": [
  {
   "cell_type": "markdown",
   "id": "15e62f1d",
   "metadata": {
    "papermill": {
     "duration": 0.009636,
     "end_time": "2022-07-13T16:21:15.033345",
     "exception": false,
     "start_time": "2022-07-13T16:21:15.023709",
     "status": "completed"
    },
    "tags": []
   },
   "source": [
    "**This notebook is an exercise in the [Intermediate Machine Learning](https://www.kaggle.com/learn/intermediate-machine-learning) course.  You can reference the tutorial at [this link](https://www.kaggle.com/alexisbcook/xgboost).**\n",
    "\n",
    "---\n"
   ]
  },
  {
   "cell_type": "markdown",
   "id": "a89d3c26",
   "metadata": {
    "papermill": {
     "duration": 0.005686,
     "end_time": "2022-07-13T16:21:15.044963",
     "exception": false,
     "start_time": "2022-07-13T16:21:15.039277",
     "status": "completed"
    },
    "tags": []
   },
   "source": [
    "In this exercise, you will use your new knowledge to train a model with **gradient boosting**.\n",
    "\n",
    "# Setup\n",
    "\n",
    "The questions below will give you feedback on your work. Run the following cell to set up the feedback system."
   ]
  },
  {
   "cell_type": "code",
   "execution_count": 1,
   "id": "7c623551",
   "metadata": {
    "execution": {
     "iopub.execute_input": "2022-07-13T16:21:15.060435Z",
     "iopub.status.busy": "2022-07-13T16:21:15.059712Z",
     "iopub.status.idle": "2022-07-13T16:21:17.511687Z",
     "shell.execute_reply": "2022-07-13T16:21:17.510654Z"
    },
    "papermill": {
     "duration": 2.463595,
     "end_time": "2022-07-13T16:21:17.514874",
     "exception": false,
     "start_time": "2022-07-13T16:21:15.051279",
     "status": "completed"
    },
    "tags": []
   },
   "outputs": [
    {
     "name": "stdout",
     "output_type": "stream",
     "text": [
      "Setup Complete\n"
     ]
    }
   ],
   "source": [
    "# Set up code checking\n",
    "import os\n",
    "if not os.path.exists(\"../input/train.csv\"):\n",
    "    os.symlink(\"../input/home-data-for-ml-course/train.csv\", \"../input/train.csv\")  \n",
    "    os.symlink(\"../input/home-data-for-ml-course/test.csv\", \"../input/test.csv\") \n",
    "from learntools.core import binder\n",
    "binder.bind(globals())\n",
    "from learntools.ml_intermediate.ex6 import *\n",
    "print(\"Setup Complete\")"
   ]
  },
  {
   "cell_type": "markdown",
   "id": "49a948a4",
   "metadata": {
    "papermill": {
     "duration": 0.005444,
     "end_time": "2022-07-13T16:21:17.527221",
     "exception": false,
     "start_time": "2022-07-13T16:21:17.521777",
     "status": "completed"
    },
    "tags": []
   },
   "source": [
    "You will work with the [Housing Prices Competition for Kaggle Learn Users](https://www.kaggle.com/c/home-data-for-ml-course) dataset from the previous exercise. \n",
    "\n",
    "![Ames Housing dataset image](https://i.imgur.com/lTJVG4e.png)\n",
    "\n",
    "Run the next code cell without changes to load the training and validation sets in `X_train`, `X_valid`, `y_train`, and `y_valid`.  The test set is loaded in `X_test`."
   ]
  },
  {
   "cell_type": "code",
   "execution_count": 2,
   "id": "74e47dab",
   "metadata": {
    "execution": {
     "iopub.execute_input": "2022-07-13T16:21:17.540851Z",
     "iopub.status.busy": "2022-07-13T16:21:17.539717Z",
     "iopub.status.idle": "2022-07-13T16:21:17.730378Z",
     "shell.execute_reply": "2022-07-13T16:21:17.729316Z"
    },
    "papermill": {
     "duration": 0.200163,
     "end_time": "2022-07-13T16:21:17.732905",
     "exception": false,
     "start_time": "2022-07-13T16:21:17.532742",
     "status": "completed"
    },
    "tags": []
   },
   "outputs": [],
   "source": [
    "import pandas as pd\n",
    "from sklearn.model_selection import train_test_split\n",
    "\n",
    "# Read the data\n",
    "X = pd.read_csv('../input/train.csv', index_col='Id')\n",
    "X_test_full = pd.read_csv('../input/test.csv', index_col='Id')\n",
    "\n",
    "# Remove rows with missing target, separate target from predictors\n",
    "X.dropna(axis=0, subset=['SalePrice'], inplace=True)\n",
    "y = X.SalePrice              \n",
    "X.drop(['SalePrice'], axis=1, inplace=True)\n",
    "\n",
    "# Break off validation set from training data\n",
    "X_train_full, X_valid_full, y_train, y_valid = train_test_split(X, y, train_size=0.8, test_size=0.2,\n",
    "                                                                random_state=0)\n",
    "\n",
    "# \"Cardinality\" means the number of unique values in a column\n",
    "# Select categorical columns with relatively low cardinality (convenient but arbitrary)\n",
    "low_cardinality_cols = [cname for cname in X_train_full.columns if X_train_full[cname].nunique() < 10 and \n",
    "                        X_train_full[cname].dtype == \"object\"]\n",
    "\n",
    "# Select numeric columns\n",
    "numeric_cols = [cname for cname in X_train_full.columns if X_train_full[cname].dtype in ['int64', 'float64']]\n",
    "\n",
    "# Keep selected columns only\n",
    "my_cols = low_cardinality_cols + numeric_cols\n",
    "X_train = X_train_full[my_cols].copy()\n",
    "X_valid = X_valid_full[my_cols].copy()\n",
    "X_test = X_test_full[my_cols].copy()\n",
    "\n",
    "# One-hot encode the data (to shorten the code, we use pandas)\n",
    "X_train = pd.get_dummies(X_train)\n",
    "X_valid = pd.get_dummies(X_valid)\n",
    "X_test = pd.get_dummies(X_test)\n",
    "X_train, X_valid = X_train.align(X_valid, join='left', axis=1)\n",
    "X_train, X_test = X_train.align(X_test, join='left', axis=1)"
   ]
  },
  {
   "cell_type": "markdown",
   "id": "7f8faba5",
   "metadata": {
    "papermill": {
     "duration": 0.005716,
     "end_time": "2022-07-13T16:21:17.744932",
     "exception": false,
     "start_time": "2022-07-13T16:21:17.739216",
     "status": "completed"
    },
    "tags": []
   },
   "source": [
    "# Step 1: Build model\n",
    "\n",
    "### Part A\n",
    "\n",
    "In this step, you'll build and train your first model with gradient boosting.\n",
    "\n",
    "- Begin by setting `my_model_1` to an XGBoost model.  Use the [XGBRegressor](https://xgboost.readthedocs.io/en/latest/python/python_api.html#xgboost.XGBRegressor) class, and set the random seed to 0 (`random_state=0`).  **Leave all other parameters as default.**\n",
    "- Then, fit the model to the training data in `X_train` and `y_train`."
   ]
  },
  {
   "cell_type": "code",
   "execution_count": 3,
   "id": "ded05b70",
   "metadata": {
    "execution": {
     "iopub.execute_input": "2022-07-13T16:21:17.759083Z",
     "iopub.status.busy": "2022-07-13T16:21:17.758027Z",
     "iopub.status.idle": "2022-07-13T16:21:18.672372Z",
     "shell.execute_reply": "2022-07-13T16:21:18.671439Z"
    },
    "papermill": {
     "duration": 0.924151,
     "end_time": "2022-07-13T16:21:18.674903",
     "exception": false,
     "start_time": "2022-07-13T16:21:17.750752",
     "status": "completed"
    },
    "tags": []
   },
   "outputs": [
    {
     "data": {
      "application/javascript": [
       "parent.postMessage({\"jupyterEvent\": \"custom.exercise_interaction\", \"data\": {\"outcomeType\": 1, \"valueTowardsCompletion\": 0.5, \"interactionType\": 1, \"questionType\": 2, \"questionId\": \"1.1_Model1A\", \"learnToolsVersion\": \"0.3.4\", \"failureMessage\": \"\", \"exceptionClass\": \"\", \"trace\": \"\"}}, \"*\")"
      ],
      "text/plain": [
       "<IPython.core.display.Javascript object>"
      ]
     },
     "metadata": {},
     "output_type": "display_data"
    },
    {
     "data": {
      "text/markdown": [
       "<span style=\"color:#33cc33\">Correct</span>"
      ],
      "text/plain": [
       "Correct"
      ]
     },
     "metadata": {},
     "output_type": "display_data"
    }
   ],
   "source": [
    "from xgboost import XGBRegressor\n",
    "\n",
    "# Define the model\n",
    "my_model_1 = XGBRegressor() # Your code here\n",
    "\n",
    "# Fit the model\n",
    "my_model_1.fit(X_train, y_train) # Your code here\n",
    "\n",
    "# Check your answer\n",
    "step_1.a.check()"
   ]
  },
  {
   "cell_type": "code",
   "execution_count": 4,
   "id": "5c234b84",
   "metadata": {
    "execution": {
     "iopub.execute_input": "2022-07-13T16:21:18.688796Z",
     "iopub.status.busy": "2022-07-13T16:21:18.688454Z",
     "iopub.status.idle": "2022-07-13T16:21:18.692303Z",
     "shell.execute_reply": "2022-07-13T16:21:18.691333Z"
    },
    "papermill": {
     "duration": 0.013767,
     "end_time": "2022-07-13T16:21:18.694778",
     "exception": false,
     "start_time": "2022-07-13T16:21:18.681011",
     "status": "completed"
    },
    "tags": []
   },
   "outputs": [],
   "source": [
    "# Lines below will give you a hint or solution code\n",
    "#step_1.a.hint()\n",
    "#step_1.a.solution()"
   ]
  },
  {
   "cell_type": "markdown",
   "id": "c9808e7a",
   "metadata": {
    "papermill": {
     "duration": 0.005918,
     "end_time": "2022-07-13T16:21:18.706648",
     "exception": false,
     "start_time": "2022-07-13T16:21:18.700730",
     "status": "completed"
    },
    "tags": []
   },
   "source": [
    "### Part B\n",
    "\n",
    "Set `predictions_1` to the model's predictions for the validation data.  Recall that the validation features are stored in `X_valid`."
   ]
  },
  {
   "cell_type": "code",
   "execution_count": 5,
   "id": "0e3b5395",
   "metadata": {
    "execution": {
     "iopub.execute_input": "2022-07-13T16:21:18.721106Z",
     "iopub.status.busy": "2022-07-13T16:21:18.720508Z",
     "iopub.status.idle": "2022-07-13T16:21:18.749217Z",
     "shell.execute_reply": "2022-07-13T16:21:18.748385Z"
    },
    "papermill": {
     "duration": 0.038853,
     "end_time": "2022-07-13T16:21:18.751732",
     "exception": false,
     "start_time": "2022-07-13T16:21:18.712879",
     "status": "completed"
    },
    "tags": []
   },
   "outputs": [
    {
     "data": {
      "application/javascript": [
       "parent.postMessage({\"jupyterEvent\": \"custom.exercise_interaction\", \"data\": {\"outcomeType\": 1, \"valueTowardsCompletion\": 0.5, \"interactionType\": 1, \"questionType\": 2, \"questionId\": \"1.2_Model1B\", \"learnToolsVersion\": \"0.3.4\", \"failureMessage\": \"\", \"exceptionClass\": \"\", \"trace\": \"\"}}, \"*\")"
      ],
      "text/plain": [
       "<IPython.core.display.Javascript object>"
      ]
     },
     "metadata": {},
     "output_type": "display_data"
    },
    {
     "data": {
      "text/markdown": [
       "<span style=\"color:#33cc33\">Correct</span>"
      ],
      "text/plain": [
       "Correct"
      ]
     },
     "metadata": {},
     "output_type": "display_data"
    }
   ],
   "source": [
    "from sklearn.metrics import mean_absolute_error\n",
    "\n",
    "# Get predictions\n",
    "predictions_1 = my_model_1.predict(X_valid) # Your code here\n",
    "\n",
    "# Check your answer\n",
    "step_1.b.check()"
   ]
  },
  {
   "cell_type": "code",
   "execution_count": 6,
   "id": "e7ce6e48",
   "metadata": {
    "execution": {
     "iopub.execute_input": "2022-07-13T16:21:18.767074Z",
     "iopub.status.busy": "2022-07-13T16:21:18.766659Z",
     "iopub.status.idle": "2022-07-13T16:21:18.772177Z",
     "shell.execute_reply": "2022-07-13T16:21:18.771245Z"
    },
    "papermill": {
     "duration": 0.015201,
     "end_time": "2022-07-13T16:21:18.774253",
     "exception": false,
     "start_time": "2022-07-13T16:21:18.759052",
     "status": "completed"
    },
    "tags": []
   },
   "outputs": [],
   "source": [
    "# Lines below will give you a hint or solution code\n",
    "#step_1.b.hint()\n",
    "#step_1.b.solution()"
   ]
  },
  {
   "cell_type": "markdown",
   "id": "0cead5f5",
   "metadata": {
    "papermill": {
     "duration": 0.006039,
     "end_time": "2022-07-13T16:21:18.786748",
     "exception": false,
     "start_time": "2022-07-13T16:21:18.780709",
     "status": "completed"
    },
    "tags": []
   },
   "source": [
    "### Part C\n",
    "\n",
    "Finally, use the `mean_absolute_error()` function to calculate the mean absolute error (MAE) corresponding to the predictions for the validation set.  Recall that the labels for the validation data are stored in `y_valid`."
   ]
  },
  {
   "cell_type": "code",
   "execution_count": 7,
   "id": "89dd8122",
   "metadata": {
    "execution": {
     "iopub.execute_input": "2022-07-13T16:21:18.801073Z",
     "iopub.status.busy": "2022-07-13T16:21:18.800678Z",
     "iopub.status.idle": "2022-07-13T16:21:18.812795Z",
     "shell.execute_reply": "2022-07-13T16:21:18.811528Z"
    },
    "papermill": {
     "duration": 0.022192,
     "end_time": "2022-07-13T16:21:18.815170",
     "exception": false,
     "start_time": "2022-07-13T16:21:18.792978",
     "status": "completed"
    },
    "tags": []
   },
   "outputs": [
    {
     "name": "stdout",
     "output_type": "stream",
     "text": [
      "Mean Absolute Error: 17662.736729452055\n"
     ]
    },
    {
     "data": {
      "application/javascript": [
       "parent.postMessage({\"jupyterEvent\": \"custom.exercise_interaction\", \"data\": {\"outcomeType\": 1, \"valueTowardsCompletion\": 0.5, \"interactionType\": 1, \"questionType\": 2, \"questionId\": \"1.3_Model1C\", \"learnToolsVersion\": \"0.3.4\", \"failureMessage\": \"\", \"exceptionClass\": \"\", \"trace\": \"\"}}, \"*\")"
      ],
      "text/plain": [
       "<IPython.core.display.Javascript object>"
      ]
     },
     "metadata": {},
     "output_type": "display_data"
    },
    {
     "data": {
      "text/markdown": [
       "<span style=\"color:#33cc33\">Correct</span>"
      ],
      "text/plain": [
       "Correct"
      ]
     },
     "metadata": {},
     "output_type": "display_data"
    }
   ],
   "source": [
    "# Calculate MAE\n",
    "mae_1 = mean_absolute_error(predictions_1, y_valid) # Your code here\n",
    "\n",
    "# Uncomment to print MAE\n",
    "print(\"Mean Absolute Error:\" , mae_1)\n",
    "\n",
    "# Check your answer\n",
    "step_1.c.check()"
   ]
  },
  {
   "cell_type": "code",
   "execution_count": 8,
   "id": "5676fa07",
   "metadata": {
    "execution": {
     "iopub.execute_input": "2022-07-13T16:21:18.830893Z",
     "iopub.status.busy": "2022-07-13T16:21:18.829934Z",
     "iopub.status.idle": "2022-07-13T16:21:18.833945Z",
     "shell.execute_reply": "2022-07-13T16:21:18.833134Z"
    },
    "papermill": {
     "duration": 0.014096,
     "end_time": "2022-07-13T16:21:18.836080",
     "exception": false,
     "start_time": "2022-07-13T16:21:18.821984",
     "status": "completed"
    },
    "tags": []
   },
   "outputs": [],
   "source": [
    "# Lines below will give you a hint or solution code\n",
    "#step_1.c.hint()\n",
    "#step_1.c.solution()"
   ]
  },
  {
   "cell_type": "markdown",
   "id": "38d1f5d4",
   "metadata": {
    "papermill": {
     "duration": 0.006526,
     "end_time": "2022-07-13T16:21:18.849664",
     "exception": false,
     "start_time": "2022-07-13T16:21:18.843138",
     "status": "completed"
    },
    "tags": []
   },
   "source": [
    "# Step 2: Improve the model\n",
    "\n",
    "Now that you've trained a default model as baseline, it's time to tinker with the parameters, to see if you can get better performance!\n",
    "- Begin by setting `my_model_2` to an XGBoost model, using the [XGBRegressor](https://xgboost.readthedocs.io/en/latest/python/python_api.html#xgboost.XGBRegressor) class.  Use what you learned in the previous tutorial to figure out how to change the default parameters (like `n_estimators` and `learning_rate`) to get better results.\n",
    "- Then, fit the model to the training data in `X_train` and `y_train`.\n",
    "- Set `predictions_2` to the model's predictions for the validation data.  Recall that the validation features are stored in `X_valid`.\n",
    "- Finally, use the `mean_absolute_error()` function to calculate the mean absolute error (MAE) corresponding to the predictions on the validation set.  Recall that the labels for the validation data are stored in `y_valid`.\n",
    "\n",
    "In order for this step to be marked correct, your model in `my_model_2` must attain lower MAE than the model in `my_model_1`. "
   ]
  },
  {
   "cell_type": "code",
   "execution_count": 9,
   "id": "dd47b8b8",
   "metadata": {
    "execution": {
     "iopub.execute_input": "2022-07-13T16:21:18.865783Z",
     "iopub.status.busy": "2022-07-13T16:21:18.865032Z",
     "iopub.status.idle": "2022-07-13T16:21:27.660331Z",
     "shell.execute_reply": "2022-07-13T16:21:27.659369Z"
    },
    "papermill": {
     "duration": 8.80582,
     "end_time": "2022-07-13T16:21:27.662591",
     "exception": false,
     "start_time": "2022-07-13T16:21:18.856771",
     "status": "completed"
    },
    "tags": []
   },
   "outputs": [
    {
     "name": "stdout",
     "output_type": "stream",
     "text": [
      "Mean Absolute Error: 16688.691513270547\n"
     ]
    },
    {
     "data": {
      "application/javascript": [
       "parent.postMessage({\"jupyterEvent\": \"custom.exercise_interaction\", \"data\": {\"outcomeType\": 1, \"valueTowardsCompletion\": 0.5, \"interactionType\": 1, \"questionType\": 2, \"questionId\": \"2_Model2\", \"learnToolsVersion\": \"0.3.4\", \"failureMessage\": \"\", \"exceptionClass\": \"\", \"trace\": \"\"}}, \"*\")"
      ],
      "text/plain": [
       "<IPython.core.display.Javascript object>"
      ]
     },
     "metadata": {},
     "output_type": "display_data"
    },
    {
     "data": {
      "text/markdown": [
       "<span style=\"color:#33cc33\">Correct</span>"
      ],
      "text/plain": [
       "Correct"
      ]
     },
     "metadata": {},
     "output_type": "display_data"
    }
   ],
   "source": [
    "# Define the model\n",
    "my_model_2 = XGBRegressor(n_estimators=1000, learning_rate=0.05) # Your code here\n",
    "\n",
    "# Fit the model\n",
    "my_model_2.fit(X_train, y_train) # Your code here\n",
    "\n",
    "# Get predictions\n",
    "predictions_2 = my_model_2.predict(X_valid) # Your code here\n",
    "\n",
    "# Calculate MAE\n",
    "mae_2 = mean_absolute_error(predictions_2, y_valid) # Your code here\n",
    "\n",
    "# Uncomment to print MAE\n",
    "print(\"Mean Absolute Error:\" , mae_2)\n",
    "\n",
    "# Check your answer\n",
    "step_2.check()"
   ]
  },
  {
   "cell_type": "code",
   "execution_count": 10,
   "id": "a9f78d04",
   "metadata": {
    "execution": {
     "iopub.execute_input": "2022-07-13T16:21:27.680587Z",
     "iopub.status.busy": "2022-07-13T16:21:27.679701Z",
     "iopub.status.idle": "2022-07-13T16:21:27.684028Z",
     "shell.execute_reply": "2022-07-13T16:21:27.683063Z"
    },
    "papermill": {
     "duration": 0.015382,
     "end_time": "2022-07-13T16:21:27.686670",
     "exception": false,
     "start_time": "2022-07-13T16:21:27.671288",
     "status": "completed"
    },
    "tags": []
   },
   "outputs": [],
   "source": [
    "# Lines below will give you a hint or solution code\n",
    "#step_2.hint()\n",
    "#step_2.solution()"
   ]
  },
  {
   "cell_type": "markdown",
   "id": "9590d4ea",
   "metadata": {
    "papermill": {
     "duration": 0.006829,
     "end_time": "2022-07-13T16:21:27.700677",
     "exception": false,
     "start_time": "2022-07-13T16:21:27.693848",
     "status": "completed"
    },
    "tags": []
   },
   "source": [
    "# Step 3: Break the model\n",
    "\n",
    "In this step, you will create a model that performs worse than the original model in Step 1.  This will help you to develop your intuition for how to set parameters.  You might even find that you accidentally get better performance, which is ultimately a nice problem to have and a valuable learning experience!\n",
    "- Begin by setting `my_model_3` to an XGBoost model, using the [XGBRegressor](https://xgboost.readthedocs.io/en/latest/python/python_api.html#xgboost.XGBRegressor) class.  Use what you learned in the previous tutorial to figure out how to change the default parameters (like `n_estimators` and `learning_rate`) to design a model to get high MAE.\n",
    "- Then, fit the model to the training data in `X_train` and `y_train`.\n",
    "- Set `predictions_3` to the model's predictions for the validation data.  Recall that the validation features are stored in `X_valid`.\n",
    "- Finally, use the `mean_absolute_error()` function to calculate the mean absolute error (MAE) corresponding to the predictions on the validation set.  Recall that the labels for the validation data are stored in `y_valid`.\n",
    "\n",
    "In order for this step to be marked correct, your model in `my_model_3` must attain higher MAE than the model in `my_model_1`. "
   ]
  },
  {
   "cell_type": "code",
   "execution_count": 11,
   "id": "099e230d",
   "metadata": {
    "execution": {
     "iopub.execute_input": "2022-07-13T16:21:27.717060Z",
     "iopub.status.busy": "2022-07-13T16:21:27.716415Z",
     "iopub.status.idle": "2022-07-13T16:21:27.817295Z",
     "shell.execute_reply": "2022-07-13T16:21:27.816417Z"
    },
    "papermill": {
     "duration": 0.112168,
     "end_time": "2022-07-13T16:21:27.819960",
     "exception": false,
     "start_time": "2022-07-13T16:21:27.707792",
     "status": "completed"
    },
    "tags": []
   },
   "outputs": [
    {
     "name": "stdout",
     "output_type": "stream",
     "text": [
      "Mean Absolute Error: 34987.65813623716\n"
     ]
    },
    {
     "data": {
      "application/javascript": [
       "parent.postMessage({\"jupyterEvent\": \"custom.exercise_interaction\", \"data\": {\"outcomeType\": 1, \"valueTowardsCompletion\": 0.5, \"interactionType\": 1, \"questionType\": 2, \"questionId\": \"3_Model3\", \"learnToolsVersion\": \"0.3.4\", \"failureMessage\": \"\", \"exceptionClass\": \"\", \"trace\": \"\"}}, \"*\")"
      ],
      "text/plain": [
       "<IPython.core.display.Javascript object>"
      ]
     },
     "metadata": {},
     "output_type": "display_data"
    },
    {
     "data": {
      "text/markdown": [
       "<span style=\"color:#33cc33\">Correct</span>"
      ],
      "text/plain": [
       "Correct"
      ]
     },
     "metadata": {},
     "output_type": "display_data"
    }
   ],
   "source": [
    "# Define the model\n",
    "my_model_3 = XGBRegressor(n_estimators=5)\n",
    "\n",
    "# Fit the model\n",
    "my_model_3.fit(X_train, y_train) # Your code here\n",
    "\n",
    "# Get predictions\n",
    "predictions_3 = my_model_3.predict(X_valid)\n",
    "\n",
    "# Calculate MAE\n",
    "mae_3 = mean_absolute_error(predictions_3, y_valid)\n",
    "\n",
    "# Uncomment to print MAE\n",
    "print(\"Mean Absolute Error:\" , mae_3)\n",
    "\n",
    "# Check your answer\n",
    "step_3.check()"
   ]
  },
  {
   "cell_type": "code",
   "execution_count": 12,
   "id": "b67fe40a",
   "metadata": {
    "execution": {
     "iopub.execute_input": "2022-07-13T16:21:27.838644Z",
     "iopub.status.busy": "2022-07-13T16:21:27.837651Z",
     "iopub.status.idle": "2022-07-13T16:21:27.842225Z",
     "shell.execute_reply": "2022-07-13T16:21:27.841470Z"
    },
    "papermill": {
     "duration": 0.015294,
     "end_time": "2022-07-13T16:21:27.844291",
     "exception": false,
     "start_time": "2022-07-13T16:21:27.828997",
     "status": "completed"
    },
    "tags": []
   },
   "outputs": [],
   "source": [
    "# Lines below will give you a hint or solution code\n",
    "#step_3.hint()\n",
    "#step_3.solution()"
   ]
  },
  {
   "cell_type": "markdown",
   "id": "b5aed027",
   "metadata": {
    "papermill": {
     "duration": 0.007197,
     "end_time": "2022-07-13T16:21:27.858999",
     "exception": false,
     "start_time": "2022-07-13T16:21:27.851802",
     "status": "completed"
    },
    "tags": []
   },
   "source": [
    "# Keep going\n",
    "\n",
    "Continue to learn about **[data leakage](https://www.kaggle.com/alexisbcook/data-leakage)**.  This is an important issue for a data scientist to understand, and it has the potential to ruin your models in subtle and dangerous ways!"
   ]
  },
  {
   "cell_type": "markdown",
   "id": "e69e253c",
   "metadata": {
    "papermill": {
     "duration": 0.007125,
     "end_time": "2022-07-13T16:21:27.873674",
     "exception": false,
     "start_time": "2022-07-13T16:21:27.866549",
     "status": "completed"
    },
    "tags": []
   },
   "source": [
    "---\n",
    "\n",
    "\n",
    "\n",
    "\n",
    "*Have questions or comments? Visit the [course discussion forum](https://www.kaggle.com/learn/intermediate-machine-learning/discussion) to chat with other learners.*"
   ]
  }
 ],
 "metadata": {
  "kernelspec": {
   "display_name": "Python 3",
   "language": "python",
   "name": "python3"
  },
  "language_info": {
   "codemirror_mode": {
    "name": "ipython",
    "version": 3
   },
   "file_extension": ".py",
   "mimetype": "text/x-python",
   "name": "python",
   "nbconvert_exporter": "python",
   "pygments_lexer": "ipython3",
   "version": "3.7.12"
  },
  "papermill": {
   "default_parameters": {},
   "duration": 23.453353,
   "end_time": "2022-07-13T16:21:28.602922",
   "environment_variables": {},
   "exception": null,
   "input_path": "__notebook__.ipynb",
   "output_path": "__notebook__.ipynb",
   "parameters": {},
   "start_time": "2022-07-13T16:21:05.149569",
   "version": "2.3.4"
  }
 },
 "nbformat": 4,
 "nbformat_minor": 5
}
