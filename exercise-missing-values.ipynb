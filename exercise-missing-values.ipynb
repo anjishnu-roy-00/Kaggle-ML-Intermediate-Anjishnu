{
 "cells": [
  {
   "cell_type": "markdown",
   "id": "03cdefda",
   "metadata": {
    "papermill": {
     "duration": 0.011436,
     "end_time": "2022-07-13T14:01:39.122702",
     "exception": false,
     "start_time": "2022-07-13T14:01:39.111266",
     "status": "completed"
    },
    "tags": []
   },
   "source": [
    "**This notebook is an exercise in the [Intermediate Machine Learning](https://www.kaggle.com/learn/intermediate-machine-learning) course.  You can reference the tutorial at [this link](https://www.kaggle.com/alexisbcook/missing-values).**\n",
    "\n",
    "---\n"
   ]
  },
  {
   "cell_type": "markdown",
   "id": "62a7a351",
   "metadata": {
    "papermill": {
     "duration": 0.009391,
     "end_time": "2022-07-13T14:01:39.142065",
     "exception": false,
     "start_time": "2022-07-13T14:01:39.132674",
     "status": "completed"
    },
    "tags": []
   },
   "source": [
    "Now it's your turn to test your new knowledge of **missing values** handling. You'll probably find it makes a big difference.\n",
    "\n",
    "# Setup\n",
    "\n",
    "The questions will give you feedback on your work. Run the following cell to set up the feedback system."
   ]
  },
  {
   "cell_type": "code",
   "execution_count": 1,
   "id": "6618e217",
   "metadata": {
    "execution": {
     "iopub.execute_input": "2022-07-13T14:01:39.163380Z",
     "iopub.status.busy": "2022-07-13T14:01:39.162934Z",
     "iopub.status.idle": "2022-07-13T14:01:39.215733Z",
     "shell.execute_reply": "2022-07-13T14:01:39.214291Z"
    },
    "papermill": {
     "duration": 0.06744,
     "end_time": "2022-07-13T14:01:39.219194",
     "exception": false,
     "start_time": "2022-07-13T14:01:39.151754",
     "status": "completed"
    },
    "tags": []
   },
   "outputs": [
    {
     "name": "stdout",
     "output_type": "stream",
     "text": [
      "Setup Complete\n"
     ]
    }
   ],
   "source": [
    "# Set up code checking\n",
    "import os\n",
    "if not os.path.exists(\"../input/train.csv\"):\n",
    "    os.symlink(\"../input/home-data-for-ml-course/train.csv\", \"../input/train.csv\")  \n",
    "    os.symlink(\"../input/home-data-for-ml-course/test.csv\", \"../input/test.csv\") \n",
    "from learntools.core import binder\n",
    "binder.bind(globals())\n",
    "from learntools.ml_intermediate.ex2 import *\n",
    "print(\"Setup Complete\")"
   ]
  },
  {
   "cell_type": "markdown",
   "id": "527b5957",
   "metadata": {
    "papermill": {
     "duration": 0.010315,
     "end_time": "2022-07-13T14:01:39.240834",
     "exception": false,
     "start_time": "2022-07-13T14:01:39.230519",
     "status": "completed"
    },
    "tags": []
   },
   "source": [
    "In this exercise, you will work with data from the [Housing Prices Competition for Kaggle Learn Users](https://www.kaggle.com/c/home-data-for-ml-course). \n",
    "\n",
    "![Ames Housing dataset image](https://i.imgur.com/lTJVG4e.png)\n",
    "\n",
    "Run the next code cell without changes to load the training and validation sets in `X_train`, `X_valid`, `y_train`, and `y_valid`.  The test set is loaded in `X_test`."
   ]
  },
  {
   "cell_type": "code",
   "execution_count": 2,
   "id": "fcc3e113",
   "metadata": {
    "execution": {
     "iopub.execute_input": "2022-07-13T14:01:39.262980Z",
     "iopub.status.busy": "2022-07-13T14:01:39.262246Z",
     "iopub.status.idle": "2022-07-13T14:01:40.619797Z",
     "shell.execute_reply": "2022-07-13T14:01:40.618514Z"
    },
    "papermill": {
     "duration": 1.371929,
     "end_time": "2022-07-13T14:01:40.622771",
     "exception": false,
     "start_time": "2022-07-13T14:01:39.250842",
     "status": "completed"
    },
    "tags": []
   },
   "outputs": [],
   "source": [
    "import pandas as pd\n",
    "from sklearn.model_selection import train_test_split\n",
    "\n",
    "# Read the data\n",
    "X_full = pd.read_csv('../input/train.csv', index_col='Id')\n",
    "X_test_full = pd.read_csv('../input/test.csv', index_col='Id')\n",
    "\n",
    "# Remove rows with missing target, separate target from predictors\n",
    "X_full.dropna(axis=0, subset=['SalePrice'], inplace=True)\n",
    "y = X_full.SalePrice\n",
    "X_full.drop(['SalePrice'], axis=1, inplace=True)\n",
    "\n",
    "# To keep things simple, we'll use only numerical predictors\n",
    "X = X_full.select_dtypes(exclude=['object'])\n",
    "X_test = X_test_full.select_dtypes(exclude=['object'])\n",
    "\n",
    "# Break off validation set from training data\n",
    "X_train, X_valid, y_train, y_valid = train_test_split(X, y, train_size=0.8, test_size=0.2,\n",
    "                                                      random_state=0)"
   ]
  },
  {
   "cell_type": "markdown",
   "id": "43d1941f",
   "metadata": {
    "papermill": {
     "duration": 0.009495,
     "end_time": "2022-07-13T14:01:40.642301",
     "exception": false,
     "start_time": "2022-07-13T14:01:40.632806",
     "status": "completed"
    },
    "tags": []
   },
   "source": [
    "Use the next code cell to print the first five rows of the data."
   ]
  },
  {
   "cell_type": "code",
   "execution_count": 3,
   "id": "c259325b",
   "metadata": {
    "execution": {
     "iopub.execute_input": "2022-07-13T14:01:40.664261Z",
     "iopub.status.busy": "2022-07-13T14:01:40.663247Z",
     "iopub.status.idle": "2022-07-13T14:01:40.692392Z",
     "shell.execute_reply": "2022-07-13T14:01:40.691263Z"
    },
    "papermill": {
     "duration": 0.043009,
     "end_time": "2022-07-13T14:01:40.695125",
     "exception": false,
     "start_time": "2022-07-13T14:01:40.652116",
     "status": "completed"
    },
    "tags": []
   },
   "outputs": [
    {
     "data": {
      "text/html": [
       "<div>\n",
       "<style scoped>\n",
       "    .dataframe tbody tr th:only-of-type {\n",
       "        vertical-align: middle;\n",
       "    }\n",
       "\n",
       "    .dataframe tbody tr th {\n",
       "        vertical-align: top;\n",
       "    }\n",
       "\n",
       "    .dataframe thead th {\n",
       "        text-align: right;\n",
       "    }\n",
       "</style>\n",
       "<table border=\"1\" class=\"dataframe\">\n",
       "  <thead>\n",
       "    <tr style=\"text-align: right;\">\n",
       "      <th></th>\n",
       "      <th>MSSubClass</th>\n",
       "      <th>LotFrontage</th>\n",
       "      <th>LotArea</th>\n",
       "      <th>OverallQual</th>\n",
       "      <th>OverallCond</th>\n",
       "      <th>YearBuilt</th>\n",
       "      <th>YearRemodAdd</th>\n",
       "      <th>MasVnrArea</th>\n",
       "      <th>BsmtFinSF1</th>\n",
       "      <th>BsmtFinSF2</th>\n",
       "      <th>...</th>\n",
       "      <th>GarageArea</th>\n",
       "      <th>WoodDeckSF</th>\n",
       "      <th>OpenPorchSF</th>\n",
       "      <th>EnclosedPorch</th>\n",
       "      <th>3SsnPorch</th>\n",
       "      <th>ScreenPorch</th>\n",
       "      <th>PoolArea</th>\n",
       "      <th>MiscVal</th>\n",
       "      <th>MoSold</th>\n",
       "      <th>YrSold</th>\n",
       "    </tr>\n",
       "    <tr>\n",
       "      <th>Id</th>\n",
       "      <th></th>\n",
       "      <th></th>\n",
       "      <th></th>\n",
       "      <th></th>\n",
       "      <th></th>\n",
       "      <th></th>\n",
       "      <th></th>\n",
       "      <th></th>\n",
       "      <th></th>\n",
       "      <th></th>\n",
       "      <th></th>\n",
       "      <th></th>\n",
       "      <th></th>\n",
       "      <th></th>\n",
       "      <th></th>\n",
       "      <th></th>\n",
       "      <th></th>\n",
       "      <th></th>\n",
       "      <th></th>\n",
       "      <th></th>\n",
       "      <th></th>\n",
       "    </tr>\n",
       "  </thead>\n",
       "  <tbody>\n",
       "    <tr>\n",
       "      <th>619</th>\n",
       "      <td>20</td>\n",
       "      <td>90.0</td>\n",
       "      <td>11694</td>\n",
       "      <td>9</td>\n",
       "      <td>5</td>\n",
       "      <td>2007</td>\n",
       "      <td>2007</td>\n",
       "      <td>452.0</td>\n",
       "      <td>48</td>\n",
       "      <td>0</td>\n",
       "      <td>...</td>\n",
       "      <td>774</td>\n",
       "      <td>0</td>\n",
       "      <td>108</td>\n",
       "      <td>0</td>\n",
       "      <td>0</td>\n",
       "      <td>260</td>\n",
       "      <td>0</td>\n",
       "      <td>0</td>\n",
       "      <td>7</td>\n",
       "      <td>2007</td>\n",
       "    </tr>\n",
       "    <tr>\n",
       "      <th>871</th>\n",
       "      <td>20</td>\n",
       "      <td>60.0</td>\n",
       "      <td>6600</td>\n",
       "      <td>5</td>\n",
       "      <td>5</td>\n",
       "      <td>1962</td>\n",
       "      <td>1962</td>\n",
       "      <td>0.0</td>\n",
       "      <td>0</td>\n",
       "      <td>0</td>\n",
       "      <td>...</td>\n",
       "      <td>308</td>\n",
       "      <td>0</td>\n",
       "      <td>0</td>\n",
       "      <td>0</td>\n",
       "      <td>0</td>\n",
       "      <td>0</td>\n",
       "      <td>0</td>\n",
       "      <td>0</td>\n",
       "      <td>8</td>\n",
       "      <td>2009</td>\n",
       "    </tr>\n",
       "    <tr>\n",
       "      <th>93</th>\n",
       "      <td>30</td>\n",
       "      <td>80.0</td>\n",
       "      <td>13360</td>\n",
       "      <td>5</td>\n",
       "      <td>7</td>\n",
       "      <td>1921</td>\n",
       "      <td>2006</td>\n",
       "      <td>0.0</td>\n",
       "      <td>713</td>\n",
       "      <td>0</td>\n",
       "      <td>...</td>\n",
       "      <td>432</td>\n",
       "      <td>0</td>\n",
       "      <td>0</td>\n",
       "      <td>44</td>\n",
       "      <td>0</td>\n",
       "      <td>0</td>\n",
       "      <td>0</td>\n",
       "      <td>0</td>\n",
       "      <td>8</td>\n",
       "      <td>2009</td>\n",
       "    </tr>\n",
       "    <tr>\n",
       "      <th>818</th>\n",
       "      <td>20</td>\n",
       "      <td>NaN</td>\n",
       "      <td>13265</td>\n",
       "      <td>8</td>\n",
       "      <td>5</td>\n",
       "      <td>2002</td>\n",
       "      <td>2002</td>\n",
       "      <td>148.0</td>\n",
       "      <td>1218</td>\n",
       "      <td>0</td>\n",
       "      <td>...</td>\n",
       "      <td>857</td>\n",
       "      <td>150</td>\n",
       "      <td>59</td>\n",
       "      <td>0</td>\n",
       "      <td>0</td>\n",
       "      <td>0</td>\n",
       "      <td>0</td>\n",
       "      <td>0</td>\n",
       "      <td>7</td>\n",
       "      <td>2008</td>\n",
       "    </tr>\n",
       "    <tr>\n",
       "      <th>303</th>\n",
       "      <td>20</td>\n",
       "      <td>118.0</td>\n",
       "      <td>13704</td>\n",
       "      <td>7</td>\n",
       "      <td>5</td>\n",
       "      <td>2001</td>\n",
       "      <td>2002</td>\n",
       "      <td>150.0</td>\n",
       "      <td>0</td>\n",
       "      <td>0</td>\n",
       "      <td>...</td>\n",
       "      <td>843</td>\n",
       "      <td>468</td>\n",
       "      <td>81</td>\n",
       "      <td>0</td>\n",
       "      <td>0</td>\n",
       "      <td>0</td>\n",
       "      <td>0</td>\n",
       "      <td>0</td>\n",
       "      <td>1</td>\n",
       "      <td>2006</td>\n",
       "    </tr>\n",
       "  </tbody>\n",
       "</table>\n",
       "<p>5 rows × 36 columns</p>\n",
       "</div>"
      ],
      "text/plain": [
       "     MSSubClass  LotFrontage  LotArea  OverallQual  OverallCond  YearBuilt  \\\n",
       "Id                                                                           \n",
       "619          20         90.0    11694            9            5       2007   \n",
       "871          20         60.0     6600            5            5       1962   \n",
       "93           30         80.0    13360            5            7       1921   \n",
       "818          20          NaN    13265            8            5       2002   \n",
       "303          20        118.0    13704            7            5       2001   \n",
       "\n",
       "     YearRemodAdd  MasVnrArea  BsmtFinSF1  BsmtFinSF2  ...  GarageArea  \\\n",
       "Id                                                     ...               \n",
       "619          2007       452.0          48           0  ...         774   \n",
       "871          1962         0.0           0           0  ...         308   \n",
       "93           2006         0.0         713           0  ...         432   \n",
       "818          2002       148.0        1218           0  ...         857   \n",
       "303          2002       150.0           0           0  ...         843   \n",
       "\n",
       "     WoodDeckSF  OpenPorchSF  EnclosedPorch  3SsnPorch  ScreenPorch  PoolArea  \\\n",
       "Id                                                                              \n",
       "619           0          108              0          0          260         0   \n",
       "871           0            0              0          0            0         0   \n",
       "93            0            0             44          0            0         0   \n",
       "818         150           59              0          0            0         0   \n",
       "303         468           81              0          0            0         0   \n",
       "\n",
       "     MiscVal  MoSold  YrSold  \n",
       "Id                            \n",
       "619        0       7    2007  \n",
       "871        0       8    2009  \n",
       "93         0       8    2009  \n",
       "818        0       7    2008  \n",
       "303        0       1    2006  \n",
       "\n",
       "[5 rows x 36 columns]"
      ]
     },
     "execution_count": 3,
     "metadata": {},
     "output_type": "execute_result"
    }
   ],
   "source": [
    "X_train.head()"
   ]
  },
  {
   "cell_type": "markdown",
   "id": "481d06ab",
   "metadata": {
    "papermill": {
     "duration": 0.009765,
     "end_time": "2022-07-13T14:01:40.715226",
     "exception": false,
     "start_time": "2022-07-13T14:01:40.705461",
     "status": "completed"
    },
    "tags": []
   },
   "source": [
    "You can already see a few missing values in the first several rows.  In the next step, you'll obtain a more comprehensive understanding of the missing values in the dataset.\n",
    "\n",
    "# Step 1: Preliminary investigation\n",
    "\n",
    "Run the code cell below without changes."
   ]
  },
  {
   "cell_type": "code",
   "execution_count": 4,
   "id": "96fa2ce1",
   "metadata": {
    "execution": {
     "iopub.execute_input": "2022-07-13T14:01:40.738351Z",
     "iopub.status.busy": "2022-07-13T14:01:40.737583Z",
     "iopub.status.idle": "2022-07-13T14:01:40.747166Z",
     "shell.execute_reply": "2022-07-13T14:01:40.745653Z"
    },
    "papermill": {
     "duration": 0.02436,
     "end_time": "2022-07-13T14:01:40.750427",
     "exception": false,
     "start_time": "2022-07-13T14:01:40.726067",
     "status": "completed"
    },
    "tags": []
   },
   "outputs": [
    {
     "name": "stdout",
     "output_type": "stream",
     "text": [
      "(1168, 36)\n",
      "LotFrontage    212\n",
      "MasVnrArea       6\n",
      "GarageYrBlt     58\n",
      "dtype: int64\n"
     ]
    }
   ],
   "source": [
    "# Shape of training data (num_rows, num_columns)\n",
    "print(X_train.shape)\n",
    "\n",
    "# Number of missing values in each column of training data\n",
    "missing_val_count_by_column = (X_train.isnull().sum())\n",
    "print(missing_val_count_by_column[missing_val_count_by_column > 0])"
   ]
  },
  {
   "cell_type": "markdown",
   "id": "758ed414",
   "metadata": {
    "papermill": {
     "duration": 0.010024,
     "end_time": "2022-07-13T14:01:40.771145",
     "exception": false,
     "start_time": "2022-07-13T14:01:40.761121",
     "status": "completed"
    },
    "tags": []
   },
   "source": [
    "### Part A\n",
    "\n",
    "Use the above output to answer the questions below."
   ]
  },
  {
   "cell_type": "code",
   "execution_count": 5,
   "id": "b5588aee",
   "metadata": {
    "execution": {
     "iopub.execute_input": "2022-07-13T14:01:40.793805Z",
     "iopub.status.busy": "2022-07-13T14:01:40.792996Z",
     "iopub.status.idle": "2022-07-13T14:01:40.803501Z",
     "shell.execute_reply": "2022-07-13T14:01:40.802365Z"
    },
    "papermill": {
     "duration": 0.024367,
     "end_time": "2022-07-13T14:01:40.805790",
     "exception": false,
     "start_time": "2022-07-13T14:01:40.781423",
     "status": "completed"
    },
    "tags": []
   },
   "outputs": [
    {
     "data": {
      "application/javascript": [
       "parent.postMessage({\"jupyterEvent\": \"custom.exercise_interaction\", \"data\": {\"outcomeType\": 1, \"valueTowardsCompletion\": 1.0, \"interactionType\": 1, \"questionType\": 1, \"questionId\": \"1.1_InvestigateEquality\", \"learnToolsVersion\": \"0.3.4\", \"failureMessage\": \"\", \"exceptionClass\": \"\", \"trace\": \"\"}}, \"*\")"
      ],
      "text/plain": [
       "<IPython.core.display.Javascript object>"
      ]
     },
     "metadata": {},
     "output_type": "display_data"
    },
    {
     "data": {
      "text/markdown": [
       "<span style=\"color:#33cc33\">Correct</span>"
      ],
      "text/plain": [
       "Correct"
      ]
     },
     "metadata": {},
     "output_type": "display_data"
    }
   ],
   "source": [
    "# Fill in the line below: How many rows are in the training data?\n",
    "num_rows = 1168\n",
    "\n",
    "# Fill in the line below: How many columns in the training data\n",
    "# have missing values?\n",
    "num_cols_with_missing = 3\n",
    "\n",
    "# Fill in the line below: How many missing entries are contained in \n",
    "# all of the training data?\n",
    "tot_missing = 212 + 6 + 58\n",
    "\n",
    "# Check your answers\n",
    "step_1.a.check()"
   ]
  },
  {
   "cell_type": "code",
   "execution_count": 6,
   "id": "fe899b47",
   "metadata": {
    "execution": {
     "iopub.execute_input": "2022-07-13T14:01:40.829464Z",
     "iopub.status.busy": "2022-07-13T14:01:40.828594Z",
     "iopub.status.idle": "2022-07-13T14:01:40.833627Z",
     "shell.execute_reply": "2022-07-13T14:01:40.832600Z"
    },
    "papermill": {
     "duration": 0.019797,
     "end_time": "2022-07-13T14:01:40.836158",
     "exception": false,
     "start_time": "2022-07-13T14:01:40.816361",
     "status": "completed"
    },
    "tags": []
   },
   "outputs": [],
   "source": [
    "# Lines below will give you a hint or solution code\n",
    "#step_1.a.hint()\n",
    "#step_1.a.solution()"
   ]
  },
  {
   "cell_type": "markdown",
   "id": "95f43946",
   "metadata": {
    "papermill": {
     "duration": 0.010325,
     "end_time": "2022-07-13T14:01:40.857484",
     "exception": false,
     "start_time": "2022-07-13T14:01:40.847159",
     "status": "completed"
    },
    "tags": []
   },
   "source": [
    "### Part B\n",
    "Considering your answers above, what do you think is likely the best approach to dealing with the missing values?"
   ]
  },
  {
   "cell_type": "code",
   "execution_count": 7,
   "id": "33e5cab1",
   "metadata": {
    "execution": {
     "iopub.execute_input": "2022-07-13T14:01:40.881155Z",
     "iopub.status.busy": "2022-07-13T14:01:40.880326Z",
     "iopub.status.idle": "2022-07-13T14:01:40.889848Z",
     "shell.execute_reply": "2022-07-13T14:01:40.888815Z"
    },
    "papermill": {
     "duration": 0.024089,
     "end_time": "2022-07-13T14:01:40.892297",
     "exception": false,
     "start_time": "2022-07-13T14:01:40.868208",
     "status": "completed"
    },
    "tags": []
   },
   "outputs": [
    {
     "data": {
      "application/javascript": [
       "parent.postMessage({\"jupyterEvent\": \"custom.exercise_interaction\", \"data\": {\"outcomeType\": 1, \"valueTowardsCompletion\": 1.0, \"interactionType\": 1, \"questionType\": 4, \"questionId\": \"1.2_InvestigateThought\", \"learnToolsVersion\": \"0.3.4\", \"failureMessage\": \"\", \"exceptionClass\": \"\", \"trace\": \"\"}}, \"*\")"
      ],
      "text/plain": [
       "<IPython.core.display.Javascript object>"
      ]
     },
     "metadata": {},
     "output_type": "display_data"
    },
    {
     "data": {
      "text/markdown": [
       "<span style=\"color:#33cc33\">Correct:</span> \n",
       "\n",
       "Since there are relatively few missing entries in the data (the column with the greatest percentage of missing values is missing less than 20% of its entries), we can expect that dropping columns is unlikely to yield good results.  This is because we'd be throwing away a lot of valuable data, and so imputation will likely perform better."
      ],
      "text/plain": [
       "Correct: \n",
       "\n",
       "Since there are relatively few missing entries in the data (the column with the greatest percentage of missing values is missing less than 20% of its entries), we can expect that dropping columns is unlikely to yield good results.  This is because we'd be throwing away a lot of valuable data, and so imputation will likely perform better."
      ]
     },
     "metadata": {},
     "output_type": "display_data"
    }
   ],
   "source": [
    "# Check your answer (Run this code cell to receive credit!)\n",
    "step_1.b.check()"
   ]
  },
  {
   "cell_type": "code",
   "execution_count": 8,
   "id": "fbae3a4c",
   "metadata": {
    "execution": {
     "iopub.execute_input": "2022-07-13T14:01:40.916749Z",
     "iopub.status.busy": "2022-07-13T14:01:40.915941Z",
     "iopub.status.idle": "2022-07-13T14:01:40.920958Z",
     "shell.execute_reply": "2022-07-13T14:01:40.920164Z"
    },
    "papermill": {
     "duration": 0.019768,
     "end_time": "2022-07-13T14:01:40.923274",
     "exception": false,
     "start_time": "2022-07-13T14:01:40.903506",
     "status": "completed"
    },
    "tags": []
   },
   "outputs": [],
   "source": [
    "#step_1.b.hint()"
   ]
  },
  {
   "cell_type": "markdown",
   "id": "8e4853cf",
   "metadata": {
    "papermill": {
     "duration": 0.010679,
     "end_time": "2022-07-13T14:01:40.944869",
     "exception": false,
     "start_time": "2022-07-13T14:01:40.934190",
     "status": "completed"
    },
    "tags": []
   },
   "source": [
    "To compare different approaches to dealing with missing values, you'll use the same `score_dataset()` function from the tutorial.  This function reports the [mean absolute error](https://en.wikipedia.org/wiki/Mean_absolute_error) (MAE) from a random forest model."
   ]
  },
  {
   "cell_type": "code",
   "execution_count": 9,
   "id": "7d5f64ab",
   "metadata": {
    "execution": {
     "iopub.execute_input": "2022-07-13T14:01:40.969107Z",
     "iopub.status.busy": "2022-07-13T14:01:40.968330Z",
     "iopub.status.idle": "2022-07-13T14:01:41.232296Z",
     "shell.execute_reply": "2022-07-13T14:01:41.231059Z"
    },
    "papermill": {
     "duration": 0.279467,
     "end_time": "2022-07-13T14:01:41.235346",
     "exception": false,
     "start_time": "2022-07-13T14:01:40.955879",
     "status": "completed"
    },
    "tags": []
   },
   "outputs": [],
   "source": [
    "from sklearn.ensemble import RandomForestRegressor\n",
    "from sklearn.metrics import mean_absolute_error\n",
    "\n",
    "# Function for comparing different approaches\n",
    "def score_dataset(X_train, X_valid, y_train, y_valid):\n",
    "    model = RandomForestRegressor(n_estimators=100, random_state=0)\n",
    "    model.fit(X_train, y_train)\n",
    "    preds = model.predict(X_valid)\n",
    "    return mean_absolute_error(y_valid, preds)"
   ]
  },
  {
   "cell_type": "markdown",
   "id": "589580af",
   "metadata": {
    "papermill": {
     "duration": 0.01093,
     "end_time": "2022-07-13T14:01:41.258043",
     "exception": false,
     "start_time": "2022-07-13T14:01:41.247113",
     "status": "completed"
    },
    "tags": []
   },
   "source": [
    "# Step 2: Drop columns with missing values\n",
    "\n",
    "In this step, you'll preprocess the data in `X_train` and `X_valid` to remove columns with missing values.  Set the preprocessed DataFrames to `reduced_X_train` and `reduced_X_valid`, respectively.  "
   ]
  },
  {
   "cell_type": "code",
   "execution_count": 10,
   "id": "c3627f11",
   "metadata": {
    "execution": {
     "iopub.execute_input": "2022-07-13T14:01:41.283091Z",
     "iopub.status.busy": "2022-07-13T14:01:41.282276Z",
     "iopub.status.idle": "2022-07-13T14:01:41.313253Z",
     "shell.execute_reply": "2022-07-13T14:01:41.311961Z"
    },
    "papermill": {
     "duration": 0.046747,
     "end_time": "2022-07-13T14:01:41.316171",
     "exception": false,
     "start_time": "2022-07-13T14:01:41.269424",
     "status": "completed"
    },
    "tags": []
   },
   "outputs": [
    {
     "data": {
      "application/javascript": [
       "parent.postMessage({\"jupyterEvent\": \"custom.exercise_interaction\", \"data\": {\"outcomeType\": 1, \"valueTowardsCompletion\": 1.0, \"interactionType\": 1, \"questionType\": 2, \"questionId\": \"2_DropMissing\", \"learnToolsVersion\": \"0.3.4\", \"failureMessage\": \"\", \"exceptionClass\": \"\", \"trace\": \"\"}}, \"*\")"
      ],
      "text/plain": [
       "<IPython.core.display.Javascript object>"
      ]
     },
     "metadata": {},
     "output_type": "display_data"
    },
    {
     "data": {
      "text/markdown": [
       "<span style=\"color:#33cc33\">Correct</span>"
      ],
      "text/plain": [
       "Correct"
      ]
     },
     "metadata": {},
     "output_type": "display_data"
    }
   ],
   "source": [
    "# Fill in the line below: get names of columns with missing values\n",
    "cols_with_missing = [col for col in X_train.columns\n",
    "                     if X_train[col].isnull().any()]\n",
    "# Your code here\n",
    "\n",
    "# Fill in the lines below: drop columns in training and validation data\n",
    "reduced_X_train = X_train.drop(cols_with_missing, axis=1)\n",
    "reduced_X_valid = X_valid.drop(cols_with_missing, axis=1)\n",
    "\n",
    "# Check your answers\n",
    "step_2.check()"
   ]
  },
  {
   "cell_type": "code",
   "execution_count": 11,
   "id": "6d0dbce9",
   "metadata": {
    "execution": {
     "iopub.execute_input": "2022-07-13T14:01:41.342309Z",
     "iopub.status.busy": "2022-07-13T14:01:41.341488Z",
     "iopub.status.idle": "2022-07-13T14:01:41.346415Z",
     "shell.execute_reply": "2022-07-13T14:01:41.345494Z"
    },
    "papermill": {
     "duration": 0.020404,
     "end_time": "2022-07-13T14:01:41.348871",
     "exception": false,
     "start_time": "2022-07-13T14:01:41.328467",
     "status": "completed"
    },
    "tags": []
   },
   "outputs": [],
   "source": [
    "# Lines below will give you a hint or solution code\n",
    "#step_2.hint()\n",
    "#step_2.solution()"
   ]
  },
  {
   "cell_type": "markdown",
   "id": "7d7f7d34",
   "metadata": {
    "papermill": {
     "duration": 0.011503,
     "end_time": "2022-07-13T14:01:41.371889",
     "exception": false,
     "start_time": "2022-07-13T14:01:41.360386",
     "status": "completed"
    },
    "tags": []
   },
   "source": [
    "Run the next code cell without changes to obtain the MAE for this approach."
   ]
  },
  {
   "cell_type": "code",
   "execution_count": 12,
   "id": "d18d205b",
   "metadata": {
    "execution": {
     "iopub.execute_input": "2022-07-13T14:01:41.397852Z",
     "iopub.status.busy": "2022-07-13T14:01:41.397463Z",
     "iopub.status.idle": "2022-07-13T14:01:42.543938Z",
     "shell.execute_reply": "2022-07-13T14:01:42.542719Z"
    },
    "papermill": {
     "duration": 1.162175,
     "end_time": "2022-07-13T14:01:42.546434",
     "exception": false,
     "start_time": "2022-07-13T14:01:41.384259",
     "status": "completed"
    },
    "tags": []
   },
   "outputs": [
    {
     "name": "stdout",
     "output_type": "stream",
     "text": [
      "MAE (Drop columns with missing values):\n",
      "17837.82570776256\n"
     ]
    }
   ],
   "source": [
    "print(\"MAE (Drop columns with missing values):\")\n",
    "print(score_dataset(reduced_X_train, reduced_X_valid, y_train, y_valid))"
   ]
  },
  {
   "cell_type": "markdown",
   "id": "e46319b6",
   "metadata": {
    "papermill": {
     "duration": 0.011383,
     "end_time": "2022-07-13T14:01:42.569692",
     "exception": false,
     "start_time": "2022-07-13T14:01:42.558309",
     "status": "completed"
    },
    "tags": []
   },
   "source": [
    "# Step 3: Imputation\n",
    "\n",
    "### Part A\n",
    "\n",
    "Use the next code cell to impute missing values with the mean value along each column.  Set the preprocessed DataFrames to `imputed_X_train` and `imputed_X_valid`.  Make sure that the column names match those in `X_train` and `X_valid`."
   ]
  },
  {
   "cell_type": "code",
   "execution_count": 13,
   "id": "4586b949",
   "metadata": {
    "execution": {
     "iopub.execute_input": "2022-07-13T14:01:42.595291Z",
     "iopub.status.busy": "2022-07-13T14:01:42.594867Z",
     "iopub.status.idle": "2022-07-13T14:01:42.631558Z",
     "shell.execute_reply": "2022-07-13T14:01:42.630215Z"
    },
    "papermill": {
     "duration": 0.052538,
     "end_time": "2022-07-13T14:01:42.634132",
     "exception": false,
     "start_time": "2022-07-13T14:01:42.581594",
     "status": "completed"
    },
    "tags": []
   },
   "outputs": [
    {
     "data": {
      "application/javascript": [
       "parent.postMessage({\"jupyterEvent\": \"custom.exercise_interaction\", \"data\": {\"outcomeType\": 1, \"valueTowardsCompletion\": 1.0, \"interactionType\": 1, \"questionType\": 2, \"questionId\": \"3.1_ImputeCode\", \"learnToolsVersion\": \"0.3.4\", \"failureMessage\": \"\", \"exceptionClass\": \"\", \"trace\": \"\"}}, \"*\")"
      ],
      "text/plain": [
       "<IPython.core.display.Javascript object>"
      ]
     },
     "metadata": {},
     "output_type": "display_data"
    },
    {
     "data": {
      "text/markdown": [
       "<span style=\"color:#33cc33\">Correct</span>"
      ],
      "text/plain": [
       "Correct"
      ]
     },
     "metadata": {},
     "output_type": "display_data"
    }
   ],
   "source": [
    "from sklearn.impute import SimpleImputer\n",
    "\n",
    "# Fill in the lines below: imputation\n",
    "mi = SimpleImputer()\n",
    "# Your code here\n",
    "imputed_X_train = pd.DataFrame(mi.fit_transform(X_train))\n",
    "imputed_X_valid = pd.DataFrame(mi.transform(X_valid))\n",
    "\n",
    "# Fill in the lines below: imputation removed column names; put them back\n",
    "imputed_X_train.columns = X_train.columns\n",
    "imputed_X_valid.columns = X_valid.columns\n",
    "\n",
    "# Check your answers\n",
    "step_3.a.check()"
   ]
  },
  {
   "cell_type": "code",
   "execution_count": 14,
   "id": "313abdf3",
   "metadata": {
    "execution": {
     "iopub.execute_input": "2022-07-13T14:01:42.660693Z",
     "iopub.status.busy": "2022-07-13T14:01:42.660277Z",
     "iopub.status.idle": "2022-07-13T14:01:42.665696Z",
     "shell.execute_reply": "2022-07-13T14:01:42.664320Z"
    },
    "papermill": {
     "duration": 0.021367,
     "end_time": "2022-07-13T14:01:42.668103",
     "exception": false,
     "start_time": "2022-07-13T14:01:42.646736",
     "status": "completed"
    },
    "tags": []
   },
   "outputs": [],
   "source": [
    "# Lines below will give you a hint or solution code\n",
    "#step_3.a.hint()\n",
    "#step_3.a.solution()"
   ]
  },
  {
   "cell_type": "markdown",
   "id": "c1417e8c",
   "metadata": {
    "papermill": {
     "duration": 0.011648,
     "end_time": "2022-07-13T14:01:42.691958",
     "exception": false,
     "start_time": "2022-07-13T14:01:42.680310",
     "status": "completed"
    },
    "tags": []
   },
   "source": [
    "Run the next code cell without changes to obtain the MAE for this approach."
   ]
  },
  {
   "cell_type": "code",
   "execution_count": 15,
   "id": "846a6c2e",
   "metadata": {
    "execution": {
     "iopub.execute_input": "2022-07-13T14:01:42.718155Z",
     "iopub.status.busy": "2022-07-13T14:01:42.717737Z",
     "iopub.status.idle": "2022-07-13T14:01:43.963404Z",
     "shell.execute_reply": "2022-07-13T14:01:43.962387Z"
    },
    "papermill": {
     "duration": 1.262607,
     "end_time": "2022-07-13T14:01:43.967012",
     "exception": false,
     "start_time": "2022-07-13T14:01:42.704405",
     "status": "completed"
    },
    "tags": []
   },
   "outputs": [
    {
     "name": "stdout",
     "output_type": "stream",
     "text": [
      "MAE (Imputation):\n",
      "18062.894611872147\n"
     ]
    }
   ],
   "source": [
    "print(\"MAE (Imputation):\")\n",
    "print(score_dataset(imputed_X_train, imputed_X_valid, y_train, y_valid))"
   ]
  },
  {
   "cell_type": "markdown",
   "id": "1214da6a",
   "metadata": {
    "papermill": {
     "duration": 0.011837,
     "end_time": "2022-07-13T14:01:43.991878",
     "exception": false,
     "start_time": "2022-07-13T14:01:43.980041",
     "status": "completed"
    },
    "tags": []
   },
   "source": [
    "### Part B\n",
    "\n",
    "Compare the MAE from each approach.  Does anything surprise you about the results?  Why do you think one approach performed better than the other?"
   ]
  },
  {
   "cell_type": "code",
   "execution_count": 16,
   "id": "f5a600b4",
   "metadata": {
    "execution": {
     "iopub.execute_input": "2022-07-13T14:01:44.019167Z",
     "iopub.status.busy": "2022-07-13T14:01:44.018367Z",
     "iopub.status.idle": "2022-07-13T14:01:44.026190Z",
     "shell.execute_reply": "2022-07-13T14:01:44.025281Z"
    },
    "papermill": {
     "duration": 0.024096,
     "end_time": "2022-07-13T14:01:44.028241",
     "exception": false,
     "start_time": "2022-07-13T14:01:44.004145",
     "status": "completed"
    },
    "tags": []
   },
   "outputs": [
    {
     "data": {
      "application/javascript": [
       "parent.postMessage({\"jupyterEvent\": \"custom.exercise_interaction\", \"data\": {\"outcomeType\": 1, \"valueTowardsCompletion\": 1.0, \"interactionType\": 1, \"questionType\": 4, \"questionId\": \"3.2_ImputeThought\", \"learnToolsVersion\": \"0.3.4\", \"failureMessage\": \"\", \"exceptionClass\": \"\", \"trace\": \"\"}}, \"*\")"
      ],
      "text/plain": [
       "<IPython.core.display.Javascript object>"
      ]
     },
     "metadata": {},
     "output_type": "display_data"
    },
    {
     "data": {
      "text/markdown": [
       "<span style=\"color:#33cc33\">Correct:</span> \n",
       "\n",
       "Given that thre are so few missing values in the dataset, we'd expect imputation to perform better than dropping columns entirely.  However, we see that dropping columns performs slightly better!  While this can probably partially be attributed to noise in the dataset, another potential explanation is that the imputation method is not a great match to this dataset.  That is, maybe instead of filling in the mean value, it makes more sense to set every missing value to a value of 0, to fill in the most frequently encountered value, or to use some other method.  For instance, consider the `GarageYrBlt` column (which indicates the year that the garage was built).  It's likely that in some cases, a missing value could indicate a house that does not have a garage.  Does it make more sense to fill in the median value along each column in this case?  Or could we get better results by filling in the minimum value along each column?  It's not quite clear what's best in this case, but perhaps we can rule out some options immediately - for instance, setting missing values in this column to 0 is likely to yield horrible results!"
      ],
      "text/plain": [
       "Correct: \n",
       "\n",
       "Given that thre are so few missing values in the dataset, we'd expect imputation to perform better than dropping columns entirely.  However, we see that dropping columns performs slightly better!  While this can probably partially be attributed to noise in the dataset, another potential explanation is that the imputation method is not a great match to this dataset.  That is, maybe instead of filling in the mean value, it makes more sense to set every missing value to a value of 0, to fill in the most frequently encountered value, or to use some other method.  For instance, consider the `GarageYrBlt` column (which indicates the year that the garage was built).  It's likely that in some cases, a missing value could indicate a house that does not have a garage.  Does it make more sense to fill in the median value along each column in this case?  Or could we get better results by filling in the minimum value along each column?  It's not quite clear what's best in this case, but perhaps we can rule out some options immediately - for instance, setting missing values in this column to 0 is likely to yield horrible results!"
      ]
     },
     "metadata": {},
     "output_type": "display_data"
    }
   ],
   "source": [
    "# Check your answer (Run this code cell to receive credit!)\n",
    "step_3.b.check()"
   ]
  },
  {
   "cell_type": "code",
   "execution_count": 17,
   "id": "9b1d7edd",
   "metadata": {
    "execution": {
     "iopub.execute_input": "2022-07-13T14:01:44.056081Z",
     "iopub.status.busy": "2022-07-13T14:01:44.054854Z",
     "iopub.status.idle": "2022-07-13T14:01:44.060248Z",
     "shell.execute_reply": "2022-07-13T14:01:44.059325Z"
    },
    "papermill": {
     "duration": 0.02147,
     "end_time": "2022-07-13T14:01:44.062640",
     "exception": false,
     "start_time": "2022-07-13T14:01:44.041170",
     "status": "completed"
    },
    "tags": []
   },
   "outputs": [],
   "source": [
    "#step_3.b.hint()"
   ]
  },
  {
   "cell_type": "markdown",
   "id": "14e849a7",
   "metadata": {
    "papermill": {
     "duration": 0.011865,
     "end_time": "2022-07-13T14:01:44.086760",
     "exception": false,
     "start_time": "2022-07-13T14:01:44.074895",
     "status": "completed"
    },
    "tags": []
   },
   "source": [
    "# Step 4: Generate test predictions\n",
    "\n",
    "In this final step, you'll use any approach of your choosing to deal with missing values.  Once you've preprocessed the training and validation features, you'll train and evaluate a random forest model.  Then, you'll preprocess the test data before generating predictions that can be submitted to the competition!\n",
    "\n",
    "### Part A\n",
    "\n",
    "Use the next code cell to preprocess the training and validation data.  Set the preprocessed DataFrames to `final_X_train` and `final_X_valid`.  **You can use any approach of your choosing here!**  in order for this step to be marked as correct, you need only ensure:\n",
    "- the preprocessed DataFrames have the same number of columns,\n",
    "- the preprocessed DataFrames have no missing values, \n",
    "- `final_X_train` and `y_train` have the same number of rows, and\n",
    "- `final_X_valid` and `y_valid` have the same number of rows."
   ]
  },
  {
   "cell_type": "code",
   "execution_count": 18,
   "id": "e586fd19",
   "metadata": {
    "execution": {
     "iopub.execute_input": "2022-07-13T14:01:44.113139Z",
     "iopub.status.busy": "2022-07-13T14:01:44.112683Z",
     "iopub.status.idle": "2022-07-13T14:01:44.145674Z",
     "shell.execute_reply": "2022-07-13T14:01:44.144753Z"
    },
    "papermill": {
     "duration": 0.048835,
     "end_time": "2022-07-13T14:01:44.147918",
     "exception": false,
     "start_time": "2022-07-13T14:01:44.099083",
     "status": "completed"
    },
    "tags": []
   },
   "outputs": [
    {
     "data": {
      "application/javascript": [
       "parent.postMessage({\"jupyterEvent\": \"custom.exercise_interaction\", \"data\": {\"outcomeType\": 1, \"valueTowardsCompletion\": 1.0, \"interactionType\": 1, \"questionType\": 2, \"questionId\": \"4.1_PredsCodeA\", \"learnToolsVersion\": \"0.3.4\", \"failureMessage\": \"\", \"exceptionClass\": \"\", \"trace\": \"\"}}, \"*\")"
      ],
      "text/plain": [
       "<IPython.core.display.Javascript object>"
      ]
     },
     "metadata": {},
     "output_type": "display_data"
    },
    {
     "data": {
      "text/markdown": [
       "<span style=\"color:#33cc33\">Correct</span>"
      ],
      "text/plain": [
       "Correct"
      ]
     },
     "metadata": {},
     "output_type": "display_data"
    }
   ],
   "source": [
    "# Preprocessed training and validation features\n",
    "final_imputer = SimpleImputer(strategy='median')\n",
    "final_X_train = pd.DataFrame(final_imputer.fit_transform(X_train))\n",
    "final_X_valid = pd.DataFrame(final_imputer.transform(X_valid))\n",
    "\n",
    "final_X_train.columns = X_train.columns\n",
    "final_X_valid.columns = X_valid.columns\n",
    "\n",
    "# Check your answers\n",
    "step_4.a.check()"
   ]
  },
  {
   "cell_type": "code",
   "execution_count": 19,
   "id": "ac080a74",
   "metadata": {
    "execution": {
     "iopub.execute_input": "2022-07-13T14:01:44.177997Z",
     "iopub.status.busy": "2022-07-13T14:01:44.177593Z",
     "iopub.status.idle": "2022-07-13T14:01:44.182353Z",
     "shell.execute_reply": "2022-07-13T14:01:44.181188Z"
    },
    "papermill": {
     "duration": 0.02336,
     "end_time": "2022-07-13T14:01:44.184970",
     "exception": false,
     "start_time": "2022-07-13T14:01:44.161610",
     "status": "completed"
    },
    "tags": []
   },
   "outputs": [],
   "source": [
    "# Lines below will give you a hint or solution code\n",
    "#step_4.a.hint()\n",
    "#step_4.a.solution()"
   ]
  },
  {
   "cell_type": "markdown",
   "id": "cdddd9d7",
   "metadata": {
    "papermill": {
     "duration": 0.012291,
     "end_time": "2022-07-13T14:01:44.210689",
     "exception": false,
     "start_time": "2022-07-13T14:01:44.198398",
     "status": "completed"
    },
    "tags": []
   },
   "source": [
    "Run the next code cell to train and evaluate a random forest model.  (*Note that we don't use the `score_dataset()` function above, because we will soon use the trained model to generate test predictions!*)"
   ]
  },
  {
   "cell_type": "code",
   "execution_count": 20,
   "id": "5977319d",
   "metadata": {
    "execution": {
     "iopub.execute_input": "2022-07-13T14:01:44.237783Z",
     "iopub.status.busy": "2022-07-13T14:01:44.237344Z",
     "iopub.status.idle": "2022-07-13T14:01:45.491228Z",
     "shell.execute_reply": "2022-07-13T14:01:45.490111Z"
    },
    "papermill": {
     "duration": 1.271013,
     "end_time": "2022-07-13T14:01:45.494358",
     "exception": false,
     "start_time": "2022-07-13T14:01:44.223345",
     "status": "completed"
    },
    "tags": []
   },
   "outputs": [
    {
     "name": "stdout",
     "output_type": "stream",
     "text": [
      "MAE (Your approach):\n",
      "17791.59899543379\n"
     ]
    }
   ],
   "source": [
    "# Define and fit model\n",
    "model = RandomForestRegressor(n_estimators=100, random_state=0)\n",
    "model.fit(final_X_train, y_train)\n",
    "\n",
    "# Get validation predictions and MAE\n",
    "preds_valid = model.predict(final_X_valid)\n",
    "print(\"MAE (Your approach):\")\n",
    "print(mean_absolute_error(y_valid, preds_valid))"
   ]
  },
  {
   "cell_type": "markdown",
   "id": "eac2dfa2",
   "metadata": {
    "papermill": {
     "duration": 0.012358,
     "end_time": "2022-07-13T14:01:45.519925",
     "exception": false,
     "start_time": "2022-07-13T14:01:45.507567",
     "status": "completed"
    },
    "tags": []
   },
   "source": [
    "### Part B\n",
    "\n",
    "Use the next code cell to preprocess your test data.  Make sure that you use a method that agrees with how you preprocessed the training and validation data, and set the preprocessed test features to `final_X_test`.\n",
    "\n",
    "Then, use the preprocessed test features and the trained model to generate test predictions in `preds_test`.\n",
    "\n",
    "In order for this step to be marked correct, you need only ensure:\n",
    "- the preprocessed test DataFrame has no missing values, and\n",
    "- `final_X_test` has the same number of rows as `X_test`."
   ]
  },
  {
   "cell_type": "code",
   "execution_count": 21,
   "id": "0ce13c93",
   "metadata": {
    "execution": {
     "iopub.execute_input": "2022-07-13T14:01:45.547394Z",
     "iopub.status.busy": "2022-07-13T14:01:45.546975Z",
     "iopub.status.idle": "2022-07-13T14:01:45.612140Z",
     "shell.execute_reply": "2022-07-13T14:01:45.610770Z"
    },
    "papermill": {
     "duration": 0.082129,
     "end_time": "2022-07-13T14:01:45.615133",
     "exception": false,
     "start_time": "2022-07-13T14:01:45.533004",
     "status": "completed"
    },
    "tags": []
   },
   "outputs": [
    {
     "data": {
      "application/javascript": [
       "parent.postMessage({\"jupyterEvent\": \"custom.exercise_interaction\", \"data\": {\"outcomeType\": 1, \"valueTowardsCompletion\": 1.0, \"interactionType\": 1, \"questionType\": 2, \"questionId\": \"4.2_PredsCodeB\", \"learnToolsVersion\": \"0.3.4\", \"failureMessage\": \"\", \"exceptionClass\": \"\", \"trace\": \"\"}}, \"*\")"
      ],
      "text/plain": [
       "<IPython.core.display.Javascript object>"
      ]
     },
     "metadata": {},
     "output_type": "display_data"
    },
    {
     "data": {
      "text/markdown": [
       "<span style=\"color:#33cc33\">Correct</span>"
      ],
      "text/plain": [
       "Correct"
      ]
     },
     "metadata": {},
     "output_type": "display_data"
    }
   ],
   "source": [
    "# Fill in the line below: preprocess test data\n",
    "final_X_test = pd.DataFrame(final_imputer.fit_transform(X_test))\n",
    "final_X_test.columns = X_test.columns\n",
    "# Fill in the line below: get test predictions\n",
    "preds_test = model.predict(final_X_test)\n",
    "\n",
    "# Check your answers\n",
    "step_4.b.check()"
   ]
  },
  {
   "cell_type": "code",
   "execution_count": 22,
   "id": "ca4c8938",
   "metadata": {
    "execution": {
     "iopub.execute_input": "2022-07-13T14:01:45.642925Z",
     "iopub.status.busy": "2022-07-13T14:01:45.642526Z",
     "iopub.status.idle": "2022-07-13T14:01:45.646304Z",
     "shell.execute_reply": "2022-07-13T14:01:45.645497Z"
    },
    "papermill": {
     "duration": 0.020195,
     "end_time": "2022-07-13T14:01:45.648344",
     "exception": false,
     "start_time": "2022-07-13T14:01:45.628149",
     "status": "completed"
    },
    "tags": []
   },
   "outputs": [],
   "source": [
    "# Lines below will give you a hint or solution code\n",
    "#step_4.b.hint()\n",
    "#step_4.b.solution()"
   ]
  },
  {
   "cell_type": "markdown",
   "id": "a106cc37",
   "metadata": {
    "papermill": {
     "duration": 0.012827,
     "end_time": "2022-07-13T14:01:45.674269",
     "exception": false,
     "start_time": "2022-07-13T14:01:45.661442",
     "status": "completed"
    },
    "tags": []
   },
   "source": [
    "Run the next code cell without changes to save your results to a CSV file that can be submitted directly to the competition."
   ]
  },
  {
   "cell_type": "code",
   "execution_count": 23,
   "id": "6f4dff77",
   "metadata": {
    "execution": {
     "iopub.execute_input": "2022-07-13T14:01:45.704304Z",
     "iopub.status.busy": "2022-07-13T14:01:45.703615Z",
     "iopub.status.idle": "2022-07-13T14:01:45.716050Z",
     "shell.execute_reply": "2022-07-13T14:01:45.715098Z"
    },
    "papermill": {
     "duration": 0.029326,
     "end_time": "2022-07-13T14:01:45.718433",
     "exception": false,
     "start_time": "2022-07-13T14:01:45.689107",
     "status": "completed"
    },
    "tags": []
   },
   "outputs": [],
   "source": [
    "# Save test predictions to file\n",
    "output = pd.DataFrame({'Id': X_test.index,\n",
    "                       'SalePrice': preds_test})\n",
    "output.to_csv('submission.csv', index=False)"
   ]
  },
  {
   "cell_type": "markdown",
   "id": "4a5f2641",
   "metadata": {
    "papermill": {
     "duration": 0.012503,
     "end_time": "2022-07-13T14:01:45.743903",
     "exception": false,
     "start_time": "2022-07-13T14:01:45.731400",
     "status": "completed"
    },
    "tags": []
   },
   "source": [
    "# Submit your results\n",
    "\n",
    "Once you have successfully completed Step 4, you're ready to submit your results to the leaderboard!  (_You also learned how to do this in the previous exercise.  If you need a reminder of how to do this, please use the instructions below._)  \n",
    "\n",
    "First, you'll need to join the competition if you haven't already.  So open a new window by clicking on [this link](https://www.kaggle.com/c/home-data-for-ml-course).  Then click on the **Join Competition** button.\n",
    "\n",
    "![join competition image](https://i.imgur.com/wLmFtH3.png)\n",
    "\n",
    "Next, follow the instructions below:\n",
    "1. Begin by clicking on the **Save Version** button in the top right corner of the window.  This will generate a pop-up window.  \n",
    "2. Ensure that the **Save and Run All** option is selected, and then click on the **Save** button.\n",
    "3. This generates a window in the bottom left corner of the notebook.  After it has finished running, click on the number to the right of the **Save Version** button.  This pulls up a list of versions on the right of the screen.  Click on the ellipsis **(...)** to the right of the most recent version, and select **Open in Viewer**.  This brings you into view mode of the same page. You will need to scroll down to get back to these instructions.\n",
    "4. Click on the **Output** tab on the right of the screen.  Then, click on the file you would like to submit, and click on the **Submit** button to submit your results to the leaderboard.\n",
    "\n",
    "You have now successfully submitted to the competition!\n",
    "\n",
    "If you want to keep working to improve your performance, select the **Edit** button in the top right of the screen. Then you can change your code and repeat the process. There's a lot of room to improve, and you will climb up the leaderboard as you work.\n",
    "\n",
    "\n",
    "# Keep going\n",
    "\n",
    "Move on to learn what **[categorical variables](https://www.kaggle.com/alexisbcook/categorical-variables)** are, along with how to incorporate them into your machine learning models.  Categorical variables are very common in real-world data, but you'll get an error if you try to plug them into your models without processing them first!"
   ]
  },
  {
   "cell_type": "markdown",
   "id": "9522dd0c",
   "metadata": {
    "papermill": {
     "duration": 0.012773,
     "end_time": "2022-07-13T14:01:45.769515",
     "exception": false,
     "start_time": "2022-07-13T14:01:45.756742",
     "status": "completed"
    },
    "tags": []
   },
   "source": [
    "---\n",
    "\n",
    "\n",
    "\n",
    "\n",
    "*Have questions or comments? Visit the [course discussion forum](https://www.kaggle.com/learn/intermediate-machine-learning/discussion) to chat with other learners.*"
   ]
  }
 ],
 "metadata": {
  "kernelspec": {
   "display_name": "Python 3",
   "language": "python",
   "name": "python3"
  },
  "language_info": {
   "codemirror_mode": {
    "name": "ipython",
    "version": 3
   },
   "file_extension": ".py",
   "mimetype": "text/x-python",
   "name": "python",
   "nbconvert_exporter": "python",
   "pygments_lexer": "ipython3",
   "version": "3.7.12"
  },
  "papermill": {
   "default_parameters": {},
   "duration": 17.901212,
   "end_time": "2022-07-13T14:01:46.605895",
   "environment_variables": {},
   "exception": null,
   "input_path": "__notebook__.ipynb",
   "output_path": "__notebook__.ipynb",
   "parameters": {},
   "start_time": "2022-07-13T14:01:28.704683",
   "version": "2.3.4"
  }
 },
 "nbformat": 4,
 "nbformat_minor": 5
}
